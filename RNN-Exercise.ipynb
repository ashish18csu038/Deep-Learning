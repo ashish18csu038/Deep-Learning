{
 "cells": [
  {
   "cell_type": "markdown",
   "metadata": {},
   "source": [
    "**TASK: IMPORT THE BASIC LIBRARIES YOU THINK YOU WILL USE**"
   ]
  },
  {
   "cell_type": "code",
   "execution_count": 1,
   "metadata": {},
   "outputs": [],
   "source": [
    "import pandas as pd\n",
    "import numpy as np\n",
    "%matplotlib inline\n",
    "import matplotlib.pyplot as plt"
   ]
  },
  {
   "cell_type": "markdown",
   "metadata": {},
   "source": [
    "## Data\n",
    "\n",
    "Info about this data set: https://fred.stlouisfed.org/series/TRFVOLUSM227NFWA\n",
    "\n",
    "Read in the data set \"Miles_Traveled.csv\" from the Data folder. Figure out how to set the date to a datetime index columns"
   ]
  },
  {
   "cell_type": "code",
   "execution_count": 2,
   "metadata": {},
   "outputs": [],
   "source": [
    "data=pd.read_csv(\"Miles_Traveled.csv \", index_col='DATE', parse_dates=True)\n",
    "data.index.freq = 'MS'"
   ]
  },
  {
   "cell_type": "code",
   "execution_count": 3,
   "metadata": {},
   "outputs": [
    {
     "data": {
      "text/html": [
       "<div>\n",
       "<style scoped>\n",
       "    .dataframe tbody tr th:only-of-type {\n",
       "        vertical-align: middle;\n",
       "    }\n",
       "\n",
       "    .dataframe tbody tr th {\n",
       "        vertical-align: top;\n",
       "    }\n",
       "\n",
       "    .dataframe thead th {\n",
       "        text-align: right;\n",
       "    }\n",
       "</style>\n",
       "<table border=\"1\" class=\"dataframe\">\n",
       "  <thead>\n",
       "    <tr style=\"text-align: right;\">\n",
       "      <th></th>\n",
       "      <th>TRFVOLUSM227NFWA</th>\n",
       "    </tr>\n",
       "    <tr>\n",
       "      <th>DATE</th>\n",
       "      <th></th>\n",
       "    </tr>\n",
       "  </thead>\n",
       "  <tbody>\n",
       "    <tr>\n",
       "      <th>1970-01-01</th>\n",
       "      <td>80173.0</td>\n",
       "    </tr>\n",
       "    <tr>\n",
       "      <th>1970-02-01</th>\n",
       "      <td>77442.0</td>\n",
       "    </tr>\n",
       "    <tr>\n",
       "      <th>1970-03-01</th>\n",
       "      <td>90223.0</td>\n",
       "    </tr>\n",
       "    <tr>\n",
       "      <th>1970-04-01</th>\n",
       "      <td>89956.0</td>\n",
       "    </tr>\n",
       "    <tr>\n",
       "      <th>1970-05-01</th>\n",
       "      <td>97972.0</td>\n",
       "    </tr>\n",
       "  </tbody>\n",
       "</table>\n",
       "</div>"
      ],
      "text/plain": [
       "            TRFVOLUSM227NFWA\n",
       "DATE                        \n",
       "1970-01-01           80173.0\n",
       "1970-02-01           77442.0\n",
       "1970-03-01           90223.0\n",
       "1970-04-01           89956.0\n",
       "1970-05-01           97972.0"
      ]
     },
     "execution_count": 3,
     "metadata": {},
     "output_type": "execute_result"
    }
   ],
   "source": [
    "data.head()"
   ]
  },
  {
   "cell_type": "markdown",
   "metadata": {},
   "source": [
    "**Task: Change the column names to Value**"
   ]
  },
  {
   "cell_type": "code",
   "execution_count": 4,
   "metadata": {},
   "outputs": [],
   "source": [
    "data.columns = ['value']"
   ]
  },
  {
   "cell_type": "code",
   "execution_count": 5,
   "metadata": {},
   "outputs": [
    {
     "data": {
      "text/html": [
       "<div>\n",
       "<style scoped>\n",
       "    .dataframe tbody tr th:only-of-type {\n",
       "        vertical-align: middle;\n",
       "    }\n",
       "\n",
       "    .dataframe tbody tr th {\n",
       "        vertical-align: top;\n",
       "    }\n",
       "\n",
       "    .dataframe thead th {\n",
       "        text-align: right;\n",
       "    }\n",
       "</style>\n",
       "<table border=\"1\" class=\"dataframe\">\n",
       "  <thead>\n",
       "    <tr style=\"text-align: right;\">\n",
       "      <th></th>\n",
       "      <th>value</th>\n",
       "    </tr>\n",
       "    <tr>\n",
       "      <th>DATE</th>\n",
       "      <th></th>\n",
       "    </tr>\n",
       "  </thead>\n",
       "  <tbody>\n",
       "    <tr>\n",
       "      <th>1970-01-01</th>\n",
       "      <td>80173.0</td>\n",
       "    </tr>\n",
       "    <tr>\n",
       "      <th>1970-02-01</th>\n",
       "      <td>77442.0</td>\n",
       "    </tr>\n",
       "    <tr>\n",
       "      <th>1970-03-01</th>\n",
       "      <td>90223.0</td>\n",
       "    </tr>\n",
       "    <tr>\n",
       "      <th>1970-04-01</th>\n",
       "      <td>89956.0</td>\n",
       "    </tr>\n",
       "    <tr>\n",
       "      <th>1970-05-01</th>\n",
       "      <td>97972.0</td>\n",
       "    </tr>\n",
       "  </tbody>\n",
       "</table>\n",
       "</div>"
      ],
      "text/plain": [
       "              value\n",
       "DATE               \n",
       "1970-01-01  80173.0\n",
       "1970-02-01  77442.0\n",
       "1970-03-01  90223.0\n",
       "1970-04-01  89956.0\n",
       "1970-05-01  97972.0"
      ]
     },
     "execution_count": 5,
     "metadata": {},
     "output_type": "execute_result"
    }
   ],
   "source": [
    "data.head()"
   ]
  },
  {
   "cell_type": "markdown",
   "metadata": {},
   "source": [
    "**TASK: Plot out the time series**"
   ]
  },
  {
   "cell_type": "code",
   "execution_count": 6,
   "metadata": {},
   "outputs": [
    {
     "data": {
      "text/plain": [
       "<AxesSubplot:xlabel='DATE'>"
      ]
     },
     "execution_count": 6,
     "metadata": {},
     "output_type": "execute_result"
    },
    {
     "data": {
      "image/png": "[encoded data removed]",
      "text/plain": [
       "<Figure size 864x576 with 1 Axes>"
      ]
     },
     "metadata": {
      "needs_background": "light"
     },
     "output_type": "display_data"
    }
   ],
   "source": [
    "data.plot(figsize=(12,8))"
   ]
  },
  {
   "cell_type": "markdown",
   "metadata": {},
   "source": [
    "**TASK: Perform a Seasonal Decomposition on the model and plot out the ETS components**"
   ]
  },
  {
   "cell_type": "code",
   "execution_count": 7,
   "metadata": {},
   "outputs": [],
   "source": [
    "from statsmodels.tsa.seasonal import seasonal_decompose"
   ]
  },
  {
   "cell_type": "code",
   "execution_count": 8,
   "metadata": {},
   "outputs": [
    {
     "name": "stderr",
     "output_type": "stream",
     "text": [
      "C:\\Users\\HP\\Anaconda3\\lib\\site-packages\\statsmodels\\compat\\pandas.py:49: FutureWarning: The Panel class is removed from pandas. Accessing it from the top-level namespace will also be removed in the next version\n",
      "  data_klasses = (pandas.Series, pandas.DataFrame, pandas.Panel)\n"
     ]
    },
    {
     "data": {
      "text/plain": [
       "<AxesSubplot:xlabel='DATE'>"
      ]
     },
     "execution_count": 8,
     "metadata": {},
     "output_type": "execute_result"
    },
    {
     "data": {
      "image/png": "[encoded data removed]",
      "text/plain": [
       "<Figure size 864x144 with 1 Axes>"
      ]
     },
     "metadata": {
      "needs_background": "light"
     },
     "output_type": "display_data"
    }
   ],
   "source": [
    "results = seasonal_decompose(data['value'])\n",
    "results.observed.plot(figsize=(12,2))"
   ]
  },
  {
   "cell_type": "code",
   "execution_count": 9,
   "metadata": {},
   "outputs": [
    {
     "data": {
      "text/plain": [
       "<AxesSubplot:xlabel='DATE'>"
      ]
     },
     "execution_count": 9,
     "metadata": {},
     "output_type": "execute_result"
    },
    {
     "data": {
      "image/png": "[encoded data removed]",
      "text/plain": [
       "<Figure size 864x144 with 1 Axes>"
      ]
     },
     "metadata": {
      "needs_background": "light"
     },
     "output_type": "display_data"
    }
   ],
   "source": [
    "results.trend.plot(figsize=(12,2))"
   ]
  },
  {
   "cell_type": "code",
   "execution_count": 10,
   "metadata": {},
   "outputs": [
    {
     "data": {
      "text/plain": [
       "<AxesSubplot:xlabel='DATE'>"
      ]
     },
     "execution_count": 10,
     "metadata": {},
     "output_type": "execute_result"
    },
    {
     "data": {
      "image/png": "[encoded data removed]",
      "text/plain": [
       "<Figure size 864x144 with 1 Axes>"
      ]
     },
     "metadata": {
      "needs_background": "light"
     },
     "output_type": "display_data"
    }
   ],
   "source": [
    "results.seasonal.plot(figsize=(12,2))"
   ]
  },
  {
   "cell_type": "code",
   "execution_count": 11,
   "metadata": {},
   "outputs": [
    {
     "data": {
      "text/plain": [
       "<AxesSubplot:xlabel='DATE'>"
      ]
     },
     "execution_count": 11,
     "metadata": {},
     "output_type": "execute_result"
    },
    {
     "data": {
      "image/png": "[encoded data removed]",
      "text/plain": [
       "<Figure size 864x144 with 1 Axes>"
      ]
     },
     "metadata": {
      "needs_background": "light"
     },
     "output_type": "display_data"
    }
   ],
   "source": [
    "results.resid.plot(figsize=(12,2))"
   ]
  },
  {
   "cell_type": "markdown",
   "metadata": {},
   "source": [
    "## Train Test Split"
   ]
  },
  {
   "cell_type": "markdown",
   "metadata": {},
   "source": [
    "**TASK: Figure out the length of the data set**"
   ]
  },
  {
   "cell_type": "code",
   "execution_count": 12,
   "metadata": {},
   "outputs": [
    {
     "data": {
      "text/plain": [
       "604"
      ]
     },
     "execution_count": 12,
     "metadata": {},
     "output_type": "execute_result"
    }
   ],
   "source": [
    "len(data)"
   ]
  },
  {
   "cell_type": "code",
   "execution_count": 13,
   "metadata": {},
   "outputs": [
    {
     "data": {
      "text/plain": [
       "588"
      ]
     },
     "execution_count": 13,
     "metadata": {},
     "output_type": "execute_result"
    }
   ],
   "source": [
    "604-16"
   ]
  },
  {
   "cell_type": "markdown",
   "metadata": {},
   "source": [
    "**TASK: Split the data into a train/test split where the test set is the last 12 months of data.**"
   ]
  },
  {
   "cell_type": "code",
   "execution_count": 14,
   "metadata": {},
   "outputs": [],
   "source": [
    "train = data.iloc[:588]\n",
    "test = data.iloc[588:]"
   ]
  },
  {
   "cell_type": "code",
   "execution_count": 15,
   "metadata": {},
   "outputs": [
    {
     "data": {
      "text/plain": [
       "16"
      ]
     },
     "execution_count": 15,
     "metadata": {},
     "output_type": "execute_result"
    }
   ],
   "source": [
    "len(test)"
   ]
  },
  {
   "cell_type": "markdown",
   "metadata": {},
   "source": [
    "## Scale Data"
   ]
  },
  {
   "cell_type": "markdown",
   "metadata": {},
   "source": [
    "**TASK: Use a MinMaxScaler to scale the train and test sets into scaled versions.**"
   ]
  },
  {
   "cell_type": "code",
   "execution_count": 16,
   "metadata": {},
   "outputs": [],
   "source": [
    "from sklearn.preprocessing import MinMaxScaler"
   ]
  },
  {
   "cell_type": "code",
   "execution_count": 17,
   "metadata": {},
   "outputs": [],
   "source": [
    "scaler = MinMaxScaler()"
   ]
  },
  {
   "cell_type": "code",
   "execution_count": 18,
   "metadata": {},
   "outputs": [
    {
     "data": {
      "text/plain": [
       "MinMaxScaler(copy=True, feature_range=(0, 1))"
      ]
     },
     "execution_count": 18,
     "metadata": {},
     "output_type": "execute_result"
    }
   ],
   "source": [
    "scaler.fit(train)"
   ]
  },
  {
   "cell_type": "code",
   "execution_count": 19,
   "metadata": {},
   "outputs": [],
   "source": [
    "scaled_train = scaler.transform(train)\n",
    "scaled_test = scaler.transform(test)"
   ]
  },
  {
   "cell_type": "markdown",
   "metadata": {},
   "source": [
    "# Time Series Generator\n",
    "\n",
    "**TASK: Create a TimeSeriesGenerator object based off the scaled_train data. The n_input is up to you, but at a minimum it should be at least 12.**"
   ]
  },
  {
   "cell_type": "code",
   "execution_count": 20,
   "metadata": {},
   "outputs": [],
   "source": [
    "from keras.preprocessing.sequence import TimeseriesGenerator"
   ]
  },
  {
   "cell_type": "code",
   "execution_count": 21,
   "metadata": {},
   "outputs": [
    {
     "data": {
      "text/plain": [
       "array([[0.01278875],\n",
       "       [0.        ],\n",
       "       [0.05985099],\n",
       "       [0.05860068],\n",
       "       [0.09613809],\n",
       "       [0.10579872],\n",
       "       [0.13556735],\n",
       "       [0.13826933],\n",
       "       [0.08341021],\n",
       "       [0.08838804],\n",
       "       [0.05732696],\n",
       "       [0.05838996],\n",
       "       [0.0369661 ],\n",
       "       [0.0125312 ],\n",
       "       [0.0727334 ],\n",
       "       [0.09676558],\n",
       "       [0.1227505 ],\n",
       "       [0.13107653],\n",
       "       [0.16401073],\n",
       "       [0.16483491],\n",
       "       [0.11167565],\n",
       "       [0.11745892],\n",
       "       [0.08481974],\n",
       "       [0.08463242],\n",
       "       [0.07034985],\n",
       "       [0.05071483],\n",
       "       [0.11933673],\n",
       "       [0.12079776],\n",
       "       [0.15688818],\n",
       "       [0.1677523 ],\n",
       "       [0.19270699],\n",
       "       [0.19888362],\n",
       "       [0.14343447],\n",
       "       [0.14703555],\n",
       "       [0.10933893],\n",
       "       [0.11050495],\n",
       "       [0.09001297],\n",
       "       [0.0708275 ],\n",
       "       [0.14070907],\n",
       "       [0.14365924],\n",
       "       [0.17502938],\n",
       "       [0.17989951],\n",
       "       [0.20718156],\n",
       "       [0.22001714],\n",
       "       [0.15401762],\n",
       "       [0.16692812],\n",
       "       [0.12615022],\n",
       "       [0.10027769],\n",
       "       [0.08236126],\n",
       "       [0.04207036],\n",
       "       [0.10908137],\n",
       "       [0.12707741],\n",
       "       [0.16261057],\n",
       "       [0.17066969],\n",
       "       [0.20345872],\n",
       "       [0.21835006],\n",
       "       [0.14836547],\n",
       "       [0.16450711],\n",
       "       [0.12941882],\n",
       "       [0.12943755],\n",
       "       [0.09787073],\n",
       "       [0.06490843],\n",
       "       [0.13405948],\n",
       "       [0.13903731],\n",
       "       [0.18364575],\n",
       "       [0.19174233],\n",
       "       [0.22033089],\n",
       "       [0.22787021],\n",
       "       [0.15901417],\n",
       "       [0.17704768],\n",
       "       [0.13836767],\n",
       "       [0.14283975],\n",
       "       [0.11715454],\n",
       "       [0.09874173],\n",
       "       [0.17252408],\n",
       "       [0.18530815],\n",
       "       [0.21464127],\n",
       "       [0.21862166],\n",
       "       [0.2502915 ],\n",
       "       [0.25507734],\n",
       "       [0.1966265 ],\n",
       "       [0.20495722],\n",
       "       [0.16649262],\n",
       "       [0.16665184],\n",
       "       [0.1170843 ],\n",
       "       [0.11694849],\n",
       "       [0.19910371],\n",
       "       [0.20637611],\n",
       "       [0.24089311],\n",
       "       [0.24293949],\n",
       "       [0.27514786],\n",
       "       [0.27579409],\n",
       "       [0.21897287],\n",
       "       [0.23388762],\n",
       "       [0.19220125],\n",
       "       [0.18176327],\n",
       "       [0.15170431],\n",
       "       [0.13849878],\n",
       "       [0.22286897],\n",
       "       [0.2121266 ],\n",
       "       [0.26684992],\n",
       "       [0.28771652],\n",
       "       [0.33138841],\n",
       "       [0.33725128],\n",
       "       [0.25260481],\n",
       "       [0.25983975],\n",
       "       [0.21657059],\n",
       "       [0.22080853],\n",
       "       [0.17285188],\n",
       "       [0.15082394],\n",
       "       [0.25270315],\n",
       "       [0.24396035],\n",
       "       [0.25732977],\n",
       "       [0.25170103],\n",
       "       [0.2688448 ],\n",
       "       [0.29267562],\n",
       "       [0.23476799],\n",
       "       [0.25370059],\n",
       "       [0.2151236 ],\n",
       "       [0.21439777],\n",
       "       [0.18272324],\n",
       "       [0.13999728],\n",
       "       [0.22354329],\n",
       "       [0.22597367],\n",
       "       [0.25206161],\n",
       "       [0.25398156],\n",
       "       [0.27538668],\n",
       "       [0.28670035],\n",
       "       [0.23432781],\n",
       "       [0.25836467],\n",
       "       [0.21530623],\n",
       "       [0.22175914],\n",
       "       [0.18078924],\n",
       "       [0.15136246],\n",
       "       [0.23580757],\n",
       "       [0.23893101],\n",
       "       [0.26627862],\n",
       "       [0.2720853 ],\n",
       "       [0.29881478],\n",
       "       [0.30916847],\n",
       "       [0.25166825],\n",
       "       [0.26117904],\n",
       "       [0.22178724],\n",
       "       [0.21999373],\n",
       "       [0.151325  ],\n",
       "       [0.14081209],\n",
       "       [0.23760577],\n",
       "       [0.24539329],\n",
       "       [0.29427246],\n",
       "       [0.30283263],\n",
       "       [0.3500775 ],\n",
       "       [0.35522859],\n",
       "       [0.27567233],\n",
       "       [0.28723419],\n",
       "       [0.23235634],\n",
       "       [0.2327216 ],\n",
       "       [0.19664992],\n",
       "       [0.1610231 ],\n",
       "       [0.25929655],\n",
       "       [0.2589547 ],\n",
       "       [0.30989431],\n",
       "       [0.32449999],\n",
       "       [0.37172613],\n",
       "       [0.37559413],\n",
       "       [0.29265689],\n",
       "       [0.3118845 ],\n",
       "       [0.26344552],\n",
       "       [0.24507017],\n",
       "       [0.21113385],\n",
       "       [0.18750439],\n",
       "       [0.28033641],\n",
       "       [0.29916131],\n",
       "       [0.34467354],\n",
       "       [0.35571092],\n",
       "       [0.39457356],\n",
       "       [0.40964284],\n",
       "       [0.32139061],\n",
       "       [0.3285834 ],\n",
       "       [0.28017251],\n",
       "       [0.27466085],\n",
       "       [0.21859356],\n",
       "       [0.1963268 ],\n",
       "       [0.31366397],\n",
       "       [0.32870047],\n",
       "       [0.3712719 ],\n",
       "       [0.38052981],\n",
       "       [0.41882583],\n",
       "       [0.43079509],\n",
       "       [0.34176083],\n",
       "       [0.36125537],\n",
       "       [0.29703063],\n",
       "       [0.30036479],\n",
       "       [0.26015819],\n",
       "       [0.21580261],\n",
       "       [0.34531508],\n",
       "       [0.34107246],\n",
       "       [0.38875283],\n",
       "       [0.39770168],\n",
       "       [0.43864817],\n",
       "       [0.45205505],\n",
       "       [0.36535283],\n",
       "       [0.38395295],\n",
       "       [0.32953401],\n",
       "       [0.33803331],\n",
       "       [0.29256323],\n",
       "       [0.27419725],\n",
       "       [0.37523824],\n",
       "       [0.38567154],\n",
       "       [0.42301695],\n",
       "       [0.42325109],\n",
       "       [0.46051221],\n",
       "       [0.46798129],\n",
       "       [0.40619629],\n",
       "       [0.41861511],\n",
       "       [0.36635495],\n",
       "       [0.3659054 ],\n",
       "       [0.33452589],\n",
       "       [0.30113277],\n",
       "       [0.42329792],\n",
       "       [0.41846526],\n",
       "       [0.47109067],\n",
       "       [0.47412513],\n",
       "       [0.50263876],\n",
       "       [0.50134631],\n",
       "       [0.43845149],\n",
       "       [0.45908395],\n",
       "       [0.40045049],\n",
       "       [0.40907154],\n",
       "       [0.38543272],\n",
       "       [0.3244719 ],\n",
       "       [0.45679874],\n",
       "       [0.45366125],\n",
       "       [0.50284481],\n",
       "       [0.49943104],\n",
       "       [0.53170028],\n",
       "       [0.5466244 ],\n",
       "       [0.46773778],\n",
       "       [0.49235531],\n",
       "       [0.43219057],\n",
       "       [0.42186498],\n",
       "       [0.40346153],\n",
       "       [0.35644144],\n",
       "       [0.47450444],\n",
       "       [0.47573134],\n",
       "       [0.52356156],\n",
       "       [0.52488211],\n",
       "       [0.55270268],\n",
       "       [0.5601343 ],\n",
       "       [0.47283736],\n",
       "       [0.49259414],\n",
       "       [0.44076011],\n",
       "       [0.42697392],\n",
       "       [0.37671801],\n",
       "       [0.35546741],\n",
       "       [0.4759327 ],\n",
       "       [0.47809616],\n",
       "       [0.53612085],\n",
       "       [0.54332302],\n",
       "       [0.56636244],\n",
       "       [0.59294207],\n",
       "       [0.49708963],\n",
       "       [0.51980594],\n",
       "       [0.43199389],\n",
       "       [0.44645909],\n",
       "       [0.42243628],\n",
       "       [0.38755871],\n",
       "       [0.49795127],\n",
       "       [0.50867959],\n",
       "       [0.55857961],\n",
       "       [0.56095379],\n",
       "       [0.60489728],\n",
       "       [0.59617321],\n",
       "       [0.53133971],\n",
       "       [0.54973378],\n",
       "       [0.46799065],\n",
       "       [0.48493774],\n",
       "       [0.44129864],\n",
       "       [0.39992133],\n",
       "       [0.51710865],\n",
       "       [0.52117332],\n",
       "       [0.6019237 ],\n",
       "       [0.57117169],\n",
       "       [0.6199853 ],\n",
       "       [0.61903   ],\n",
       "       [0.54471849],\n",
       "       [0.56358085],\n",
       "       [0.4911331 ],\n",
       "       [0.51223384],\n",
       "       [0.43021911],\n",
       "       [0.41677944],\n",
       "       [0.55607431],\n",
       "       [0.55240767],\n",
       "       [0.60479426],\n",
       "       [0.60800667],\n",
       "       [0.64311838],\n",
       "       [0.64436869],\n",
       "       [0.57630873],\n",
       "       [0.58732738],\n",
       "       [0.52743424],\n",
       "       [0.54154355],\n",
       "       [0.54506034],\n",
       "       [0.43836252],\n",
       "       [0.57966162],\n",
       "       [0.56554763],\n",
       "       [0.63285366],\n",
       "       [0.62715936],\n",
       "       [0.65440395],\n",
       "       [0.66390069],\n",
       "       [0.59201956],\n",
       "       [0.60550137],\n",
       "       [0.5464324 ],\n",
       "       [0.54273298],\n",
       "       [0.49648555],\n",
       "       [0.46416011],\n",
       "       [0.5934525 ],\n",
       "       [0.59851461],\n",
       "       [0.66137197],\n",
       "       [0.64673819],\n",
       "       [0.69149649],\n",
       "       [0.70995144],\n",
       "       [0.6095239 ],\n",
       "       [0.64722052],\n",
       "       [0.57224405],\n",
       "       [0.58076208],\n",
       "       [0.52767775],\n",
       "       [0.49875671],\n",
       "       [0.62988476],\n",
       "       [0.62678474],\n",
       "       [0.69605286],\n",
       "       [0.67812706],\n",
       "       [0.74583581],\n",
       "       [0.73077121],\n",
       "       [0.63735384],\n",
       "       [0.67328036],\n",
       "       [0.58525758],\n",
       "       [0.60820335],\n",
       "       [0.55925862],\n",
       "       [0.51382131],\n",
       "       [0.64051473],\n",
       "       [0.65783645],\n",
       "       [0.70456153],\n",
       "       [0.70846699],\n",
       "       [0.76096597],\n",
       "       [0.74784942],\n",
       "       [0.66504798],\n",
       "       [0.7074836 ],\n",
       "       [0.62626026],\n",
       "       [0.65025966],\n",
       "       [0.54385686],\n",
       "       [0.53404169],\n",
       "       [0.67114499],\n",
       "       [0.67223609],\n",
       "       [0.7180808 ],\n",
       "       [0.74235648],\n",
       "       [0.77581984],\n",
       "       [0.76826647],\n",
       "       [0.68773619],\n",
       "       [0.73140339],\n",
       "       [0.67626331],\n",
       "       [0.67443233],\n",
       "       [0.59003404],\n",
       "       [0.57045522],\n",
       "       [0.72606031],\n",
       "       [0.70362028],\n",
       "       [0.77293991],\n",
       "       [0.77510337],\n",
       "       [0.78529785],\n",
       "       [0.79790397],\n",
       "       [0.70456153],\n",
       "       [0.74479623],\n",
       "       [0.68077285],\n",
       "       [0.66003269],\n",
       "       [0.61926883],\n",
       "       [0.57801795],\n",
       "       [0.72651454],\n",
       "       [0.72616801],\n",
       "       [0.78631402],\n",
       "       [0.77760868],\n",
       "       [0.80975617],\n",
       "       [0.82338783],\n",
       "       [0.69712991],\n",
       "       [0.76614516],\n",
       "       [0.71679302],\n",
       "       [0.71245206],\n",
       "       [0.64516476],\n",
       "       [0.61248812],\n",
       "       [0.74282476],\n",
       "       [0.74823809],\n",
       "       [0.81623249],\n",
       "       [0.79807256],\n",
       "       [0.83798883],\n",
       "       [0.84863754],\n",
       "       [0.73137529],\n",
       "       [0.7872459 ],\n",
       "       [0.71743457],\n",
       "       [0.73434888],\n",
       "       [0.66070701],\n",
       "       [0.5911345 ],\n",
       "       [0.7456766 ],\n",
       "       [0.75848876],\n",
       "       [0.82324734],\n",
       "       [0.81810093],\n",
       "       [0.86474172],\n",
       "       [0.8581015 ],\n",
       "       [0.74929173],\n",
       "       [0.82701232],\n",
       "       [0.73171714],\n",
       "       [0.75438194],\n",
       "       [0.67904489],\n",
       "       [0.63811245],\n",
       "       [0.81462629],\n",
       "       [0.81258927],\n",
       "       [0.84193644],\n",
       "       [0.84262949],\n",
       "       [0.8828361 ],\n",
       "       [0.86816485],\n",
       "       [0.77768828],\n",
       "       [0.82911022],\n",
       "       [0.76027291],\n",
       "       [0.78477806],\n",
       "       [0.68664041],\n",
       "       [0.66743153],\n",
       "       [0.82295701],\n",
       "       [0.81208352],\n",
       "       [0.86742497],\n",
       "       [0.87275401],\n",
       "       [0.88778114],\n",
       "       [0.879811  ],\n",
       "       [0.7717177 ],\n",
       "       [0.81470121],\n",
       "       [0.77553887],\n",
       "       [0.78832763],\n",
       "       [0.72976909],\n",
       "       [0.67090149],\n",
       "       [0.83907056],\n",
       "       [0.81107204],\n",
       "       [0.87066547],\n",
       "       [0.87259479],\n",
       "       [0.8709043 ],\n",
       "       [0.87926311],\n",
       "       [0.78747536],\n",
       "       [0.84523313],\n",
       "       [0.78626251],\n",
       "       [0.79956637],\n",
       "       [0.73135656],\n",
       "       [0.66397561],\n",
       "       [0.85318923],\n",
       "       [0.8202082 ],\n",
       "       [0.89035201],\n",
       "       [0.88004983],\n",
       "       [0.88816045],\n",
       "       [0.90744895],\n",
       "       [0.78916117],\n",
       "       [0.86154804],\n",
       "       [0.78832763],\n",
       "       [0.76254408],\n",
       "       [0.72807391],\n",
       "       [0.67382824],\n",
       "       [0.81902813],\n",
       "       [0.81783401],\n",
       "       [0.8617494 ],\n",
       "       [0.84310246],\n",
       "       [0.8623769 ],\n",
       "       [0.85773624],\n",
       "       [0.75938786],\n",
       "       [0.83544138],\n",
       "       [0.74467447],\n",
       "       [0.76938566],\n",
       "       [0.69346327],\n",
       "       [0.65653463],\n",
       "       [0.80684346],\n",
       "       [0.81449049],\n",
       "       [0.84681124],\n",
       "       [0.84736849],\n",
       "       [0.87582593],\n",
       "       [0.8562752 ],\n",
       "       [0.77045334],\n",
       "       [0.81840063],\n",
       "       [0.74841604],\n",
       "       [0.7593223 ],\n",
       "       [0.67150089],\n",
       "       [0.6237175 ],\n",
       "       [0.82790205],\n",
       "       [0.82648785],\n",
       "       [0.84049413],\n",
       "       [0.85527308],\n",
       "       [0.87977354],\n",
       "       [0.87285235],\n",
       "       [0.78315312],\n",
       "       [0.83800288],\n",
       "       [0.75925674],\n",
       "       [0.76497446],\n",
       "       [0.68531986],\n",
       "       [0.63696048],\n",
       "       [0.8226854 ],\n",
       "       [0.80608016],\n",
       "       [0.82717622],\n",
       "       [0.84715777],\n",
       "       [0.8557039 ],\n",
       "       [0.85734756],\n",
       "       [0.77088416],\n",
       "       [0.81698174],\n",
       "       [0.75436789],\n",
       "       [0.78375252],\n",
       "       [0.70281952],\n",
       "       [0.65912422],\n",
       "       [0.83693051],\n",
       "       [0.80521852],\n",
       "       [0.8585089 ],\n",
       "       [0.85664514],\n",
       "       [0.85602701],\n",
       "       [0.87539043],\n",
       "       [0.75592258],\n",
       "       [0.82479267],\n",
       "       [0.7629187 ],\n",
       "       [0.7551827 ],\n",
       "       [0.7116794 ],\n",
       "       [0.64791826],\n",
       "       [0.82222649],\n",
       "       [0.81772163],\n",
       "       [0.87083406],\n",
       "       [0.85479075],\n",
       "       [0.87336277],\n",
       "       [0.89263254],\n",
       "       [0.77310381],\n",
       "       [0.84902153],\n",
       "       [0.76148576],\n",
       "       [0.76702084],\n",
       "       [0.69760287],\n",
       "       [0.63923633],\n",
       "       [0.82409025],\n",
       "       [0.83959971],\n",
       "       [0.88409109],\n",
       "       [0.87108224],\n",
       "       [0.90196069],\n",
       "       [0.8962383 ],\n",
       "       [0.79722965],\n",
       "       [0.87897278],\n",
       "       [0.76802296],\n",
       "       [0.81869097],\n",
       "       [0.73078058],\n",
       "       [0.6545538 ],\n",
       "       [0.84559839],\n",
       "       [0.86807588],\n",
       "       [0.90564138],\n",
       "       [0.90440044],\n",
       "       [0.94091699],\n",
       "       [0.91205683],\n",
       "       [0.83189181],\n",
       "       [0.89454312],\n",
       "       [0.8026383 ],\n",
       "       [0.85218711],\n",
       "       [0.75972503],\n",
       "       [0.68167195],\n",
       "       [0.87898683],\n",
       "       [0.90008757],\n",
       "       [0.93904386],\n",
       "       [0.93445003],\n",
       "       [0.9727039 ],\n",
       "       [0.94485523],\n",
       "       [0.86443265],\n",
       "       [0.92798307],\n",
       "       [0.83219151],\n",
       "       [0.87725887],\n",
       "       [0.77340351],\n",
       "       [0.69400179],\n",
       "       [0.89395309],\n",
       "       [0.91512407],\n",
       "       [0.95445967],\n",
       "       [0.94989862],\n",
       "       [0.98865355],\n",
       "       [0.96051923],\n",
       "       [0.87929121],\n",
       "       [0.94333332],\n",
       "       [0.84626335],\n",
       "       [0.89215021],\n",
       "       [0.78340599],\n",
       "       [0.70390593],\n",
       "       [0.90501388],\n",
       "       [0.92572127],\n",
       "       [0.96592788],\n",
       "       [0.96094068],\n",
       "       [1.        ],\n",
       "       [0.97190314],\n",
       "       [0.88969641],\n",
       "       [0.95501225],\n",
       "       [0.85709937],\n",
       "       [0.90344514]])"
      ]
     },
     "execution_count": 21,
     "metadata": {},
     "output_type": "execute_result"
    }
   ],
   "source": [
    "scaled_train"
   ]
  },
  {
   "cell_type": "code",
   "execution_count": 22,
   "metadata": {},
   "outputs": [],
   "source": [
    "# define generator\n",
    "n_input = 2\n",
    "n_features = 1\n",
    "generator = TimeseriesGenerator(scaled_train, scaled_train, length=n_input, batch_size=1)"
   ]
  },
  {
   "cell_type": "code",
   "execution_count": 23,
   "metadata": {},
   "outputs": [
    {
     "data": {
      "text/plain": [
       "588"
      ]
     },
     "execution_count": 23,
     "metadata": {},
     "output_type": "execute_result"
    }
   ],
   "source": [
    "len(scaled_train)"
   ]
  },
  {
   "cell_type": "code",
   "execution_count": 24,
   "metadata": {},
   "outputs": [
    {
     "data": {
      "text/plain": [
       "586"
      ]
     },
     "execution_count": 24,
     "metadata": {},
     "output_type": "execute_result"
    }
   ],
   "source": [
    "len(generator)"
   ]
  },
  {
   "cell_type": "code",
   "execution_count": 25,
   "metadata": {},
   "outputs": [
    {
     "data": {
      "text/plain": [
       "array([[0.01278875],\n",
       "       [0.        ],\n",
       "       [0.05985099],\n",
       "       [0.05860068],\n",
       "       [0.09613809],\n",
       "       [0.10579872],\n",
       "       [0.13556735],\n",
       "       [0.13826933],\n",
       "       [0.08341021],\n",
       "       [0.08838804],\n",
       "       [0.05732696],\n",
       "       [0.05838996],\n",
       "       [0.0369661 ],\n",
       "       [0.0125312 ],\n",
       "       [0.0727334 ],\n",
       "       [0.09676558],\n",
       "       [0.1227505 ],\n",
       "       [0.13107653],\n",
       "       [0.16401073],\n",
       "       [0.16483491],\n",
       "       [0.11167565],\n",
       "       [0.11745892],\n",
       "       [0.08481974],\n",
       "       [0.08463242],\n",
       "       [0.07034985],\n",
       "       [0.05071483],\n",
       "       [0.11933673],\n",
       "       [0.12079776],\n",
       "       [0.15688818],\n",
       "       [0.1677523 ],\n",
       "       [0.19270699],\n",
       "       [0.19888362],\n",
       "       [0.14343447],\n",
       "       [0.14703555],\n",
       "       [0.10933893],\n",
       "       [0.11050495],\n",
       "       [0.09001297],\n",
       "       [0.0708275 ],\n",
       "       [0.14070907],\n",
       "       [0.14365924],\n",
       "       [0.17502938],\n",
       "       [0.17989951],\n",
       "       [0.20718156],\n",
       "       [0.22001714],\n",
       "       [0.15401762],\n",
       "       [0.16692812],\n",
       "       [0.12615022],\n",
       "       [0.10027769],\n",
       "       [0.08236126],\n",
       "       [0.04207036],\n",
       "       [0.10908137],\n",
       "       [0.12707741],\n",
       "       [0.16261057],\n",
       "       [0.17066969],\n",
       "       [0.20345872],\n",
       "       [0.21835006],\n",
       "       [0.14836547],\n",
       "       [0.16450711],\n",
       "       [0.12941882],\n",
       "       [0.12943755],\n",
       "       [0.09787073],\n",
       "       [0.06490843],\n",
       "       [0.13405948],\n",
       "       [0.13903731],\n",
       "       [0.18364575],\n",
       "       [0.19174233],\n",
       "       [0.22033089],\n",
       "       [0.22787021],\n",
       "       [0.15901417],\n",
       "       [0.17704768],\n",
       "       [0.13836767],\n",
       "       [0.14283975],\n",
       "       [0.11715454],\n",
       "       [0.09874173],\n",
       "       [0.17252408],\n",
       "       [0.18530815],\n",
       "       [0.21464127],\n",
       "       [0.21862166],\n",
       "       [0.2502915 ],\n",
       "       [0.25507734],\n",
       "       [0.1966265 ],\n",
       "       [0.20495722],\n",
       "       [0.16649262],\n",
       "       [0.16665184],\n",
       "       [0.1170843 ],\n",
       "       [0.11694849],\n",
       "       [0.19910371],\n",
       "       [0.20637611],\n",
       "       [0.24089311],\n",
       "       [0.24293949],\n",
       "       [0.27514786],\n",
       "       [0.27579409],\n",
       "       [0.21897287],\n",
       "       [0.23388762],\n",
       "       [0.19220125],\n",
       "       [0.18176327],\n",
       "       [0.15170431],\n",
       "       [0.13849878],\n",
       "       [0.22286897],\n",
       "       [0.2121266 ],\n",
       "       [0.26684992],\n",
       "       [0.28771652],\n",
       "       [0.33138841],\n",
       "       [0.33725128],\n",
       "       [0.25260481],\n",
       "       [0.25983975],\n",
       "       [0.21657059],\n",
       "       [0.22080853],\n",
       "       [0.17285188],\n",
       "       [0.15082394],\n",
       "       [0.25270315],\n",
       "       [0.24396035],\n",
       "       [0.25732977],\n",
       "       [0.25170103],\n",
       "       [0.2688448 ],\n",
       "       [0.29267562],\n",
       "       [0.23476799],\n",
       "       [0.25370059],\n",
       "       [0.2151236 ],\n",
       "       [0.21439777],\n",
       "       [0.18272324],\n",
       "       [0.13999728],\n",
       "       [0.22354329],\n",
       "       [0.22597367],\n",
       "       [0.25206161],\n",
       "       [0.25398156],\n",
       "       [0.27538668],\n",
       "       [0.28670035],\n",
       "       [0.23432781],\n",
       "       [0.25836467],\n",
       "       [0.21530623],\n",
       "       [0.22175914],\n",
       "       [0.18078924],\n",
       "       [0.15136246],\n",
       "       [0.23580757],\n",
       "       [0.23893101],\n",
       "       [0.26627862],\n",
       "       [0.2720853 ],\n",
       "       [0.29881478],\n",
       "       [0.30916847],\n",
       "       [0.25166825],\n",
       "       [0.26117904],\n",
       "       [0.22178724],\n",
       "       [0.21999373],\n",
       "       [0.151325  ],\n",
       "       [0.14081209],\n",
       "       [0.23760577],\n",
       "       [0.24539329],\n",
       "       [0.29427246],\n",
       "       [0.30283263],\n",
       "       [0.3500775 ],\n",
       "       [0.35522859],\n",
       "       [0.27567233],\n",
       "       [0.28723419],\n",
       "       [0.23235634],\n",
       "       [0.2327216 ],\n",
       "       [0.19664992],\n",
       "       [0.1610231 ],\n",
       "       [0.25929655],\n",
       "       [0.2589547 ],\n",
       "       [0.30989431],\n",
       "       [0.32449999],\n",
       "       [0.37172613],\n",
       "       [0.37559413],\n",
       "       [0.29265689],\n",
       "       [0.3118845 ],\n",
       "       [0.26344552],\n",
       "       [0.24507017],\n",
       "       [0.21113385],\n",
       "       [0.18750439],\n",
       "       [0.28033641],\n",
       "       [0.29916131],\n",
       "       [0.34467354],\n",
       "       [0.35571092],\n",
       "       [0.39457356],\n",
       "       [0.40964284],\n",
       "       [0.32139061],\n",
       "       [0.3285834 ],\n",
       "       [0.28017251],\n",
       "       [0.27466085],\n",
       "       [0.21859356],\n",
       "       [0.1963268 ],\n",
       "       [0.31366397],\n",
       "       [0.32870047],\n",
       "       [0.3712719 ],\n",
       "       [0.38052981],\n",
       "       [0.41882583],\n",
       "       [0.43079509],\n",
       "       [0.34176083],\n",
       "       [0.36125537],\n",
       "       [0.29703063],\n",
       "       [0.30036479],\n",
       "       [0.26015819],\n",
       "       [0.21580261],\n",
       "       [0.34531508],\n",
       "       [0.34107246],\n",
       "       [0.38875283],\n",
       "       [0.39770168],\n",
       "       [0.43864817],\n",
       "       [0.45205505],\n",
       "       [0.36535283],\n",
       "       [0.38395295],\n",
       "       [0.32953401],\n",
       "       [0.33803331],\n",
       "       [0.29256323],\n",
       "       [0.27419725],\n",
       "       [0.37523824],\n",
       "       [0.38567154],\n",
       "       [0.42301695],\n",
       "       [0.42325109],\n",
       "       [0.46051221],\n",
       "       [0.46798129],\n",
       "       [0.40619629],\n",
       "       [0.41861511],\n",
       "       [0.36635495],\n",
       "       [0.3659054 ],\n",
       "       [0.33452589],\n",
       "       [0.30113277],\n",
       "       [0.42329792],\n",
       "       [0.41846526],\n",
       "       [0.47109067],\n",
       "       [0.47412513],\n",
       "       [0.50263876],\n",
       "       [0.50134631],\n",
       "       [0.43845149],\n",
       "       [0.45908395],\n",
       "       [0.40045049],\n",
       "       [0.40907154],\n",
       "       [0.38543272],\n",
       "       [0.3244719 ],\n",
       "       [0.45679874],\n",
       "       [0.45366125],\n",
       "       [0.50284481],\n",
       "       [0.49943104],\n",
       "       [0.53170028],\n",
       "       [0.5466244 ],\n",
       "       [0.46773778],\n",
       "       [0.49235531],\n",
       "       [0.43219057],\n",
       "       [0.42186498],\n",
       "       [0.40346153],\n",
       "       [0.35644144],\n",
       "       [0.47450444],\n",
       "       [0.47573134],\n",
       "       [0.52356156],\n",
       "       [0.52488211],\n",
       "       [0.55270268],\n",
       "       [0.5601343 ],\n",
       "       [0.47283736],\n",
       "       [0.49259414],\n",
       "       [0.44076011],\n",
       "       [0.42697392],\n",
       "       [0.37671801],\n",
       "       [0.35546741],\n",
       "       [0.4759327 ],\n",
       "       [0.47809616],\n",
       "       [0.53612085],\n",
       "       [0.54332302],\n",
       "       [0.56636244],\n",
       "       [0.59294207],\n",
       "       [0.49708963],\n",
       "       [0.51980594],\n",
       "       [0.43199389],\n",
       "       [0.44645909],\n",
       "       [0.42243628],\n",
       "       [0.38755871],\n",
       "       [0.49795127],\n",
       "       [0.50867959],\n",
       "       [0.55857961],\n",
       "       [0.56095379],\n",
       "       [0.60489728],\n",
       "       [0.59617321],\n",
       "       [0.53133971],\n",
       "       [0.54973378],\n",
       "       [0.46799065],\n",
       "       [0.48493774],\n",
       "       [0.44129864],\n",
       "       [0.39992133],\n",
       "       [0.51710865],\n",
       "       [0.52117332],\n",
       "       [0.6019237 ],\n",
       "       [0.57117169],\n",
       "       [0.6199853 ],\n",
       "       [0.61903   ],\n",
       "       [0.54471849],\n",
       "       [0.56358085],\n",
       "       [0.4911331 ],\n",
       "       [0.51223384],\n",
       "       [0.43021911],\n",
       "       [0.41677944],\n",
       "       [0.55607431],\n",
       "       [0.55240767],\n",
       "       [0.60479426],\n",
       "       [0.60800667],\n",
       "       [0.64311838],\n",
       "       [0.64436869],\n",
       "       [0.57630873],\n",
       "       [0.58732738],\n",
       "       [0.52743424],\n",
       "       [0.54154355],\n",
       "       [0.54506034],\n",
       "       [0.43836252],\n",
       "       [0.57966162],\n",
       "       [0.56554763],\n",
       "       [0.63285366],\n",
       "       [0.62715936],\n",
       "       [0.65440395],\n",
       "       [0.66390069],\n",
       "       [0.59201956],\n",
       "       [0.60550137],\n",
       "       [0.5464324 ],\n",
       "       [0.54273298],\n",
       "       [0.49648555],\n",
       "       [0.46416011],\n",
       "       [0.5934525 ],\n",
       "       [0.59851461],\n",
       "       [0.66137197],\n",
       "       [0.64673819],\n",
       "       [0.69149649],\n",
       "       [0.70995144],\n",
       "       [0.6095239 ],\n",
       "       [0.64722052],\n",
       "       [0.57224405],\n",
       "       [0.58076208],\n",
       "       [0.52767775],\n",
       "       [0.49875671],\n",
       "       [0.62988476],\n",
       "       [0.62678474],\n",
       "       [0.69605286],\n",
       "       [0.67812706],\n",
       "       [0.74583581],\n",
       "       [0.73077121],\n",
       "       [0.63735384],\n",
       "       [0.67328036],\n",
       "       [0.58525758],\n",
       "       [0.60820335],\n",
       "       [0.55925862],\n",
       "       [0.51382131],\n",
       "       [0.64051473],\n",
       "       [0.65783645],\n",
       "       [0.70456153],\n",
       "       [0.70846699],\n",
       "       [0.76096597],\n",
       "       [0.74784942],\n",
       "       [0.66504798],\n",
       "       [0.7074836 ],\n",
       "       [0.62626026],\n",
       "       [0.65025966],\n",
       "       [0.54385686],\n",
       "       [0.53404169],\n",
       "       [0.67114499],\n",
       "       [0.67223609],\n",
       "       [0.7180808 ],\n",
       "       [0.74235648],\n",
       "       [0.77581984],\n",
       "       [0.76826647],\n",
       "       [0.68773619],\n",
       "       [0.73140339],\n",
       "       [0.67626331],\n",
       "       [0.67443233],\n",
       "       [0.59003404],\n",
       "       [0.57045522],\n",
       "       [0.72606031],\n",
       "       [0.70362028],\n",
       "       [0.77293991],\n",
       "       [0.77510337],\n",
       "       [0.78529785],\n",
       "       [0.79790397],\n",
       "       [0.70456153],\n",
       "       [0.74479623],\n",
       "       [0.68077285],\n",
       "       [0.66003269],\n",
       "       [0.61926883],\n",
       "       [0.57801795],\n",
       "       [0.72651454],\n",
       "       [0.72616801],\n",
       "       [0.78631402],\n",
       "       [0.77760868],\n",
       "       [0.80975617],\n",
       "       [0.82338783],\n",
       "       [0.69712991],\n",
       "       [0.76614516],\n",
       "       [0.71679302],\n",
       "       [0.71245206],\n",
       "       [0.64516476],\n",
       "       [0.61248812],\n",
       "       [0.74282476],\n",
       "       [0.74823809],\n",
       "       [0.81623249],\n",
       "       [0.79807256],\n",
       "       [0.83798883],\n",
       "       [0.84863754],\n",
       "       [0.73137529],\n",
       "       [0.7872459 ],\n",
       "       [0.71743457],\n",
       "       [0.73434888],\n",
       "       [0.66070701],\n",
       "       [0.5911345 ],\n",
       "       [0.7456766 ],\n",
       "       [0.75848876],\n",
       "       [0.82324734],\n",
       "       [0.81810093],\n",
       "       [0.86474172],\n",
       "       [0.8581015 ],\n",
       "       [0.74929173],\n",
       "       [0.82701232],\n",
       "       [0.73171714],\n",
       "       [0.75438194],\n",
       "       [0.67904489],\n",
       "       [0.63811245],\n",
       "       [0.81462629],\n",
       "       [0.81258927],\n",
       "       [0.84193644],\n",
       "       [0.84262949],\n",
       "       [0.8828361 ],\n",
       "       [0.86816485],\n",
       "       [0.77768828],\n",
       "       [0.82911022],\n",
       "       [0.76027291],\n",
       "       [0.78477806],\n",
       "       [0.68664041],\n",
       "       [0.66743153],\n",
       "       [0.82295701],\n",
       "       [0.81208352],\n",
       "       [0.86742497],\n",
       "       [0.87275401],\n",
       "       [0.88778114],\n",
       "       [0.879811  ],\n",
       "       [0.7717177 ],\n",
       "       [0.81470121],\n",
       "       [0.77553887],\n",
       "       [0.78832763],\n",
       "       [0.72976909],\n",
       "       [0.67090149],\n",
       "       [0.83907056],\n",
       "       [0.81107204],\n",
       "       [0.87066547],\n",
       "       [0.87259479],\n",
       "       [0.8709043 ],\n",
       "       [0.87926311],\n",
       "       [0.78747536],\n",
       "       [0.84523313],\n",
       "       [0.78626251],\n",
       "       [0.79956637],\n",
       "       [0.73135656],\n",
       "       [0.66397561],\n",
       "       [0.85318923],\n",
       "       [0.8202082 ],\n",
       "       [0.89035201],\n",
       "       [0.88004983],\n",
       "       [0.88816045],\n",
       "       [0.90744895],\n",
       "       [0.78916117],\n",
       "       [0.86154804],\n",
       "       [0.78832763],\n",
       "       [0.76254408],\n",
       "       [0.72807391],\n",
       "       [0.67382824],\n",
       "       [0.81902813],\n",
       "       [0.81783401],\n",
       "       [0.8617494 ],\n",
       "       [0.84310246],\n",
       "       [0.8623769 ],\n",
       "       [0.85773624],\n",
       "       [0.75938786],\n",
       "       [0.83544138],\n",
       "       [0.74467447],\n",
       "       [0.76938566],\n",
       "       [0.69346327],\n",
       "       [0.65653463],\n",
       "       [0.80684346],\n",
       "       [0.81449049],\n",
       "       [0.84681124],\n",
       "       [0.84736849],\n",
       "       [0.87582593],\n",
       "       [0.8562752 ],\n",
       "       [0.77045334],\n",
       "       [0.81840063],\n",
       "       [0.74841604],\n",
       "       [0.7593223 ],\n",
       "       [0.67150089],\n",
       "       [0.6237175 ],\n",
       "       [0.82790205],\n",
       "       [0.82648785],\n",
       "       [0.84049413],\n",
       "       [0.85527308],\n",
       "       [0.87977354],\n",
       "       [0.87285235],\n",
       "       [0.78315312],\n",
       "       [0.83800288],\n",
       "       [0.75925674],\n",
       "       [0.76497446],\n",
       "       [0.68531986],\n",
       "       [0.63696048],\n",
       "       [0.8226854 ],\n",
       "       [0.80608016],\n",
       "       [0.82717622],\n",
       "       [0.84715777],\n",
       "       [0.8557039 ],\n",
       "       [0.85734756],\n",
       "       [0.77088416],\n",
       "       [0.81698174],\n",
       "       [0.75436789],\n",
       "       [0.78375252],\n",
       "       [0.70281952],\n",
       "       [0.65912422],\n",
       "       [0.83693051],\n",
       "       [0.80521852],\n",
       "       [0.8585089 ],\n",
       "       [0.85664514],\n",
       "       [0.85602701],\n",
       "       [0.87539043],\n",
       "       [0.75592258],\n",
       "       [0.82479267],\n",
       "       [0.7629187 ],\n",
       "       [0.7551827 ],\n",
       "       [0.7116794 ],\n",
       "       [0.64791826],\n",
       "       [0.82222649],\n",
       "       [0.81772163],\n",
       "       [0.87083406],\n",
       "       [0.85479075],\n",
       "       [0.87336277],\n",
       "       [0.89263254],\n",
       "       [0.77310381],\n",
       "       [0.84902153],\n",
       "       [0.76148576],\n",
       "       [0.76702084],\n",
       "       [0.69760287],\n",
       "       [0.63923633],\n",
       "       [0.82409025],\n",
       "       [0.83959971],\n",
       "       [0.88409109],\n",
       "       [0.87108224],\n",
       "       [0.90196069],\n",
       "       [0.8962383 ],\n",
       "       [0.79722965],\n",
       "       [0.87897278],\n",
       "       [0.76802296],\n",
       "       [0.81869097],\n",
       "       [0.73078058],\n",
       "       [0.6545538 ],\n",
       "       [0.84559839],\n",
       "       [0.86807588],\n",
       "       [0.90564138],\n",
       "       [0.90440044],\n",
       "       [0.94091699],\n",
       "       [0.91205683],\n",
       "       [0.83189181],\n",
       "       [0.89454312],\n",
       "       [0.8026383 ],\n",
       "       [0.85218711],\n",
       "       [0.75972503],\n",
       "       [0.68167195],\n",
       "       [0.87898683],\n",
       "       [0.90008757],\n",
       "       [0.93904386],\n",
       "       [0.93445003],\n",
       "       [0.9727039 ],\n",
       "       [0.94485523],\n",
       "       [0.86443265],\n",
       "       [0.92798307],\n",
       "       [0.83219151],\n",
       "       [0.87725887],\n",
       "       [0.77340351],\n",
       "       [0.69400179],\n",
       "       [0.89395309],\n",
       "       [0.91512407],\n",
       "       [0.95445967],\n",
       "       [0.94989862],\n",
       "       [0.98865355],\n",
       "       [0.96051923],\n",
       "       [0.87929121],\n",
       "       [0.94333332],\n",
       "       [0.84626335],\n",
       "       [0.89215021],\n",
       "       [0.78340599],\n",
       "       [0.70390593],\n",
       "       [0.90501388],\n",
       "       [0.92572127],\n",
       "       [0.96592788],\n",
       "       [0.96094068],\n",
       "       [1.        ],\n",
       "       [0.97190314],\n",
       "       [0.88969641],\n",
       "       [0.95501225],\n",
       "       [0.85709937],\n",
       "       [0.90344514]])"
      ]
     },
     "execution_count": 25,
     "metadata": {},
     "output_type": "execute_result"
    }
   ],
   "source": [
    "scaled_train"
   ]
  },
  {
   "cell_type": "code",
   "execution_count": 26,
   "metadata": {},
   "outputs": [],
   "source": [
    "X,y = generator[0]"
   ]
  },
  {
   "cell_type": "code",
   "execution_count": 27,
   "metadata": {},
   "outputs": [
    {
     "name": "stdout",
     "output_type": "stream",
     "text": [
      "Given the Array: \n",
      "[0.01278875 0.        ]\n",
      "Predict this y: \n",
      " [[0.05985099]]\n"
     ]
    }
   ],
   "source": [
    "print(f'Given the Array: \\n{X.flatten()}')\n",
    "print(f'Predict this y: \\n {y}')\n"
   ]
  },
  {
   "cell_type": "code",
   "execution_count": 28,
   "metadata": {},
   "outputs": [],
   "source": [
    "n_input = 12\n",
    "generator = TimeseriesGenerator(scaled_train, scaled_train, length=n_input, batch_size=1)"
   ]
  },
  {
   "cell_type": "code",
   "execution_count": 29,
   "metadata": {},
   "outputs": [],
   "source": [
    "X,y = generator[0]"
   ]
  },
  {
   "cell_type": "code",
   "execution_count": 30,
   "metadata": {},
   "outputs": [
    {
     "name": "stdout",
     "output_type": "stream",
     "text": [
      "Given the Array: \n",
      "[0.01278875 0.         0.05985099 0.05860068 0.09613809 0.10579872\n",
      " 0.13556735 0.13826933 0.08341021 0.08838804 0.05732696 0.05838996]\n",
      "Predict this y: \n",
      " [[0.0369661]]\n"
     ]
    }
   ],
   "source": [
    "print(f'Given the Array: \\n{X.flatten()}')\n",
    "print(f'Predict this y: \\n {y}')"
   ]
  },
  {
   "cell_type": "markdown",
   "metadata": {},
   "source": [
    "### Create the Model\n",
    "\n",
    "**TASK: Create a Keras Sequential Model with as many LSTAM units you want and a final Dense Layer.**"
   ]
  },
  {
   "cell_type": "code",
   "execution_count": 31,
   "metadata": {},
   "outputs": [],
   "source": [
    "from keras.models import Sequential\n",
    "from keras.layers import Dense\n",
    "from keras.layers import LSTM"
   ]
  },
  {
   "cell_type": "code",
   "execution_count": 32,
   "metadata": {},
   "outputs": [],
   "source": [
    "model = Sequential()\n",
    "model.add(LSTM(100, activation='relu', input_shape=(n_input, n_features)))\n",
    "model.add(Dense(1))\n",
    "model.compile(optimizer='adam', loss='mse')"
   ]
  },
  {
   "cell_type": "code",
   "execution_count": 33,
   "metadata": {
    "scrolled": true
   },
   "outputs": [
    {
     "name": "stdout",
     "output_type": "stream",
     "text": [
      "Model: \"sequential\"\n",
      "_________________________________________________________________\n",
      "Layer (type)                 Output Shape              Param #   \n",
      "=================================================================\n",
      "lstm (LSTM)                  (None, 100)               40800     \n",
      "_________________________________________________________________\n",
      "dense (Dense)                (None, 1)                 101       \n",
      "=================================================================\n",
      "Total params: 40,901\n",
      "Trainable params: 40,901\n",
      "Non-trainable params: 0\n",
      "_________________________________________________________________\n"
     ]
    }
   ],
   "source": [
    "model.summary()"
   ]
  },
  {
   "cell_type": "markdown",
   "metadata": {},
   "source": [
    "**TASK: Fit the model to the generator (it should be a lot of epochs, but do as many as you have the patience for! :)**"
   ]
  },
  {
   "cell_type": "code",
   "execution_count": 34,
   "metadata": {},
   "outputs": [
    {
     "name": "stdout",
     "output_type": "stream",
     "text": [
      "WARNING:tensorflow:From <timed eval>:2: Model.fit_generator (from tensorflow.python.keras.engine.training) is deprecated and will be removed in a future version.\n",
      "Instructions for updating:\n",
      "Please use Model.fit, which supports generators.\n",
      "Epoch 1/50\n",
      "576/576 [==============================] - 3s 4ms/step - loss: 0.0151\n",
      "Epoch 2/50\n",
      "576/576 [==============================] - 2s 4ms/step - loss: 0.0053\n",
      "Epoch 3/50\n",
      "576/576 [==============================] - 2s 4ms/step - loss: 0.0040\n",
      "Epoch 4/50\n",
      "576/576 [==============================] - 2s 4ms/step - loss: 0.0030\n",
      "Epoch 5/50\n",
      "576/576 [==============================] - 3s 5ms/step - loss: 0.0027\n",
      "Epoch 6/50\n",
      "576/576 [==============================] - 2s 4ms/step - loss: 0.0024\n",
      "Epoch 7/50\n",
      "576/576 [==============================] - 2s 4ms/step - loss: 0.0019\n",
      "Epoch 8/50\n",
      "576/576 [==============================] - 2s 4ms/step - loss: 0.0015\n",
      "Epoch 9/50\n",
      "576/576 [==============================] - 2s 4ms/step - loss: 0.0015\n",
      "Epoch 10/50\n",
      "576/576 [==============================] - 2s 4ms/step - loss: 0.0012\n",
      "Epoch 11/50\n",
      "576/576 [==============================] - 3s 4ms/step - loss: 0.0011\n",
      "Epoch 12/50\n",
      "576/576 [==============================] - 3s 5ms/step - loss: 0.0011\n",
      "Epoch 13/50\n",
      "576/576 [==============================] - 3s 4ms/step - loss: 9.1881e-04\n",
      "Epoch 14/50\n",
      "576/576 [==============================] - 3s 4ms/step - loss: 0.0010\n",
      "Epoch 15/50\n",
      "576/576 [==============================] - 3s 4ms/step - loss: 7.4018e-04\n",
      "Epoch 16/50\n",
      "576/576 [==============================] - 2s 4ms/step - loss: 7.1521e-04\n",
      "Epoch 17/50\n",
      "576/576 [==============================] - 3s 5ms/step - loss: 7.8175e-04\n",
      "Epoch 18/50\n",
      "576/576 [==============================] - 3s 5ms/step - loss: 8.1658e-04\n",
      "Epoch 19/50\n",
      "576/576 [==============================] - 2s 4ms/step - loss: 5.9241e-04\n",
      "Epoch 20/50\n",
      "576/576 [==============================] - 2s 4ms/step - loss: 6.1964e-04\n",
      "Epoch 21/50\n",
      "576/576 [==============================] - 3s 4ms/step - loss: 6.8161e-04\n",
      "Epoch 22/50\n",
      "576/576 [==============================] - 3s 5ms/step - loss: 6.5572e-04\n",
      "Epoch 23/50\n",
      "576/576 [==============================] - 2s 4ms/step - loss: 6.4431e-04\n",
      "Epoch 24/50\n",
      "576/576 [==============================] - 3s 5ms/step - loss: 5.7425e-04\n",
      "Epoch 25/50\n",
      "576/576 [==============================] - 3s 5ms/step - loss: 5.7424e-04\n",
      "Epoch 26/50\n",
      "576/576 [==============================] - 2s 4ms/step - loss: 5.4248e-04\n",
      "Epoch 27/50\n",
      "576/576 [==============================] - 3s 4ms/step - loss: 5.5360e-04A: 0s - loss: 5.61\n",
      "Epoch 28/50\n",
      "576/576 [==============================] - 2s 4ms/step - loss: 5.6251e-04\n",
      "Epoch 29/50\n",
      "576/576 [==============================] - 2s 4ms/step - loss: 5.3477e-04\n",
      "Epoch 30/50\n",
      "576/576 [==============================] - 3s 5ms/step - loss: 5.9713e-04\n",
      "Epoch 31/50\n",
      "576/576 [==============================] - 3s 6ms/step - loss: 5.4248e-04\n",
      "Epoch 32/50\n",
      "576/576 [==============================] - 3s 6ms/step - loss: 5.5115e-04\n",
      "Epoch 33/50\n",
      "576/576 [==============================] - 3s 6ms/step - loss: 5.4310e-04\n",
      "Epoch 34/50\n",
      "576/576 [==============================] - 3s 6ms/step - loss: 4.9409e-04\n",
      "Epoch 35/50\n",
      "576/576 [==============================] - 3s 6ms/step - loss: 4.9491e-04\n",
      "Epoch 36/50\n",
      "576/576 [==============================] - 3s 6ms/step - loss: 4.4961e-04\n",
      "Epoch 37/50\n",
      "576/576 [==============================] - 3s 5ms/step - loss: 5.0063e-04\n",
      "Epoch 38/50\n",
      "576/576 [==============================] - 2s 4ms/step - loss: 4.7203e-04\n",
      "Epoch 39/50\n",
      "576/576 [==============================] - 2s 4ms/step - loss: 4.9268e-04\n",
      "Epoch 40/50\n",
      "576/576 [==============================] - 3s 5ms/step - loss: 4.6901e-04\n",
      "Epoch 41/50\n",
      "576/576 [==============================] - 3s 5ms/step - loss: 4.6302e-04\n",
      "Epoch 42/50\n",
      "576/576 [==============================] - 3s 5ms/step - loss: 4.5257e-04\n",
      "Epoch 43/50\n",
      "576/576 [==============================] - 2s 4ms/step - loss: 4.4822e-04\n",
      "Epoch 44/50\n",
      "576/576 [==============================] - 2s 3ms/step - loss: 4.4357e-04\n",
      "Epoch 45/50\n",
      "576/576 [==============================] - 2s 3ms/step - loss: 4.1254e-04\n",
      "Epoch 46/50\n",
      "576/576 [==============================] - 2s 3ms/step - loss: 4.4239e-04\n",
      "Epoch 47/50\n",
      "576/576 [==============================] - 2s 3ms/step - loss: 4.9491e-04\n",
      "Epoch 48/50\n",
      "576/576 [==============================] - 2s 3ms/step - loss: 4.1815e-04\n",
      "Epoch 49/50\n",
      "576/576 [==============================] - 2s 3ms/step - loss: 4.8844e-04\n",
      "Epoch 50/50\n",
      "576/576 [==============================] - 2s 4ms/step - loss: 4.7594e-04\n",
      "Wall time: 2min 7s\n"
     ]
    },
    {
     "data": {
      "text/plain": [
       "<tensorflow.python.keras.callbacks.History at 0x2c8f40e5f60>"
      ]
     },
     "execution_count": 34,
     "metadata": {},
     "output_type": "execute_result"
    }
   ],
   "source": [
    "%%time\n",
    "# fit model\n",
    "model.fit_generator(generator,epochs=50)\n"
   ]
  },
  {
   "cell_type": "markdown",
   "metadata": {},
   "source": [
    "**TASK: Plot the history of the loss that occured during training.**"
   ]
  },
  {
   "cell_type": "code",
   "execution_count": 35,
   "metadata": {},
   "outputs": [
    {
     "data": {
      "text/plain": [
       "dict_keys(['loss'])"
      ]
     },
     "execution_count": 35,
     "metadata": {},
     "output_type": "execute_result"
    }
   ],
   "source": [
    "model.history.history.keys()"
   ]
  },
  {
   "cell_type": "code",
   "execution_count": 36,
   "metadata": {},
   "outputs": [
    {
     "data": {
      "text/plain": [
       "[<matplotlib.lines.Line2D at 0x2c8f7581e80>]"
      ]
     },
     "execution_count": 36,
     "metadata": {},
     "output_type": "execute_result"
    },
    {
     "data": {
      "image/png": "[encoded data removed]",
      "text/plain": [
       "<Figure size 432x288 with 1 Axes>"
      ]
     },
     "metadata": {
      "needs_background": "light"
     },
     "output_type": "display_data"
    }
   ],
   "source": [
    "loss_per_epoch = model.history.history['loss']\n",
    "plt.plot(range(len(loss_per_epoch)),loss_per_epoch)"
   ]
  },
  {
   "cell_type": "markdown",
   "metadata": {},
   "source": [
    "## Evaluate on Test Data\n",
    "\n",
    "**TASK: Based on your test data and input size, create an appropriate;y sized \"first evaluation batch\" like we did in the lecture.**"
   ]
  },
  {
   "cell_type": "code",
   "execution_count": 37,
   "metadata": {},
   "outputs": [],
   "source": [
    "first_eval_batch = scaled_train[-12:]"
   ]
  },
  {
   "cell_type": "code",
   "execution_count": 38,
   "metadata": {},
   "outputs": [
    {
     "data": {
      "text/plain": [
       "array([[0.78340599],\n",
       "       [0.70390593],\n",
       "       [0.90501388],\n",
       "       [0.92572127],\n",
       "       [0.96592788],\n",
       "       [0.96094068],\n",
       "       [1.        ],\n",
       "       [0.97190314],\n",
       "       [0.88969641],\n",
       "       [0.95501225],\n",
       "       [0.85709937],\n",
       "       [0.90344514]])"
      ]
     },
     "execution_count": 38,
     "metadata": {},
     "output_type": "execute_result"
    }
   ],
   "source": [
    "first_eval_batch"
   ]
  },
  {
   "cell_type": "code",
   "execution_count": 39,
   "metadata": {},
   "outputs": [],
   "source": [
    "first_eval_batch = first_eval_batch.reshape((1, n_input, n_features))"
   ]
  },
  {
   "cell_type": "markdown",
   "metadata": {},
   "source": [
    "**TASK: Generate predictions into the same time stamps as the test set**"
   ]
  },
  {
   "cell_type": "code",
   "execution_count": 40,
   "metadata": {},
   "outputs": [
    {
     "data": {
      "text/plain": [
       "array([[0.8145201]], dtype=float32)"
      ]
     },
     "execution_count": 40,
     "metadata": {},
     "output_type": "execute_result"
    }
   ],
   "source": [
    "model.predict(first_eval_batch)"
   ]
  },
  {
   "cell_type": "code",
   "execution_count": 41,
   "metadata": {},
   "outputs": [
    {
     "data": {
      "text/plain": [
       "array([0.79993163])"
      ]
     },
     "execution_count": 41,
     "metadata": {},
     "output_type": "execute_result"
    }
   ],
   "source": [
    "scaled_test[0]"
   ]
  },
  {
   "cell_type": "code",
   "execution_count": 42,
   "metadata": {},
   "outputs": [],
   "source": [
    "test_predictions = []\n",
    "\n",
    "first_eval_batch = scaled_train[-n_input:]\n",
    "current_batch = first_eval_batch.reshape((1, n_input, n_features))"
   ]
  },
  {
   "cell_type": "code",
   "execution_count": 43,
   "metadata": {},
   "outputs": [
    {
     "data": {
      "text/plain": [
       "(1, 12, 1)"
      ]
     },
     "execution_count": 43,
     "metadata": {},
     "output_type": "execute_result"
    }
   ],
   "source": [
    "current_batch.shape"
   ]
  },
  {
   "cell_type": "code",
   "execution_count": 44,
   "metadata": {},
   "outputs": [
    {
     "data": {
      "text/plain": [
       "array([[[0.78340599],\n",
       "        [0.70390593],\n",
       "        [0.90501388],\n",
       "        [0.92572127],\n",
       "        [0.96592788],\n",
       "        [0.96094068],\n",
       "        [1.        ],\n",
       "        [0.97190314],\n",
       "        [0.88969641],\n",
       "        [0.95501225],\n",
       "        [0.85709937],\n",
       "        [0.90344514]]])"
      ]
     },
     "execution_count": 44,
     "metadata": {},
     "output_type": "execute_result"
    }
   ],
   "source": [
    "current_batch"
   ]
  },
  {
   "cell_type": "code",
   "execution_count": 45,
   "metadata": {},
   "outputs": [
    {
     "data": {
      "text/plain": [
       "array([[[ 0.70390593],\n",
       "        [ 0.90501388],\n",
       "        [ 0.92572127],\n",
       "        [ 0.96592788],\n",
       "        [ 0.96094068],\n",
       "        [ 1.        ],\n",
       "        [ 0.97190314],\n",
       "        [ 0.88969641],\n",
       "        [ 0.95501225],\n",
       "        [ 0.85709937],\n",
       "        [ 0.90344514],\n",
       "        [99.        ]]])"
      ]
     },
     "execution_count": 45,
     "metadata": {},
     "output_type": "execute_result"
    }
   ],
   "source": [
    "np.append(current_batch[:,1:,:],[[[99]]],axis=1)"
   ]
  },
  {
   "cell_type": "code",
   "execution_count": 46,
   "metadata": {},
   "outputs": [],
   "source": [
    "test_predictions = []\n",
    "\n",
    "first_eval_batch = scaled_train[-n_input:]\n",
    "current_batch = first_eval_batch.reshape((1, n_input, n_features))\n",
    "\n",
    "for i in range(len(test)):\n",
    "    \n",
    "    # get prediction 1 time stamp ahead ([0] is for grabbing just the number instead of [array])\n",
    "    current_pred = model.predict(current_batch)[0]\n",
    "    \n",
    "    # store prediction\n",
    "    test_predictions.append(current_pred) \n",
    "    \n",
    "    # update batch to now include prediction and drop first value\n",
    "    current_batch = np.append(current_batch[:,1:,:],[[current_pred]],axis=1)"
   ]
  },
  {
   "cell_type": "code",
   "execution_count": 47,
   "metadata": {},
   "outputs": [
    {
     "data": {
      "text/plain": [
       "[array([0.8145201], dtype=float32),\n",
       " array([0.7465621], dtype=float32),\n",
       " array([0.92984426], dtype=float32),\n",
       " array([0.9550873], dtype=float32),\n",
       " array([1.0013753], dtype=float32),\n",
       " array([0.9949056], dtype=float32),\n",
       " array([1.0326661], dtype=float32),\n",
       " array([1.0017182], dtype=float32),\n",
       " array([0.928159], dtype=float32),\n",
       " array([0.9822377], dtype=float32),\n",
       " array([0.89078593], dtype=float32),\n",
       " array([0.93344533], dtype=float32),\n",
       " array([0.8453373], dtype=float32),\n",
       " array([0.7876327], dtype=float32),\n",
       " array([0.95467985], dtype=float32),\n",
       " array([0.98394156], dtype=float32)]"
      ]
     },
     "execution_count": 47,
     "metadata": {},
     "output_type": "execute_result"
    }
   ],
   "source": [
    "test_predictions"
   ]
  },
  {
   "cell_type": "code",
   "execution_count": 48,
   "metadata": {},
   "outputs": [
    {
     "data": {
      "text/plain": [
       "array([[0.79993163],\n",
       "       [0.69911542],\n",
       "       [0.90905515],\n",
       "       [0.95587388],\n",
       "       [0.97756934],\n",
       "       [0.95497947],\n",
       "       [1.02189214],\n",
       "       [0.98043522],\n",
       "       [0.9103757 ],\n",
       "       [0.9675294 ],\n",
       "       [0.85725859],\n",
       "       [0.92098227],\n",
       "       [0.82460536],\n",
       "       [0.72391558],\n",
       "       [0.67099983],\n",
       "       [0.43167078]])"
      ]
     },
     "execution_count": 48,
     "metadata": {},
     "output_type": "execute_result"
    }
   ],
   "source": [
    "scaled_test"
   ]
  },
  {
   "cell_type": "markdown",
   "metadata": {},
   "source": [
    "## Inverse Transformations and Compare\n",
    "\n",
    "**TASK: Inverse Transform your new forecasted predictions.**"
   ]
  },
  {
   "cell_type": "code",
   "execution_count": 49,
   "metadata": {},
   "outputs": [],
   "source": [
    "true_predictions = scaler.inverse_transform(test_predictions)"
   ]
  },
  {
   "cell_type": "code",
   "execution_count": 50,
   "metadata": {},
   "outputs": [
    {
     "data": {
      "text/plain": [
       "array([[251380.32819819],\n",
       "       [236868.10174406],\n",
       "       [276007.45223629],\n",
       "       [281398.02853191],\n",
       "       [291282.69494188],\n",
       "       [289901.10424364],\n",
       "       [297964.74491274],\n",
       "       [291355.90865886],\n",
       "       [275647.56965041],\n",
       "       [287195.91340601],\n",
       "       [267666.66353631],\n",
       "       [276776.45083249],\n",
       "       [257961.23835766],\n",
       "       [245638.60099435],\n",
       "       [281311.01723683],\n",
       "       [287559.76725054]])"
      ]
     },
     "execution_count": 50,
     "metadata": {},
     "output_type": "execute_result"
    }
   ],
   "source": [
    "true_predictions"
   ]
  },
  {
   "cell_type": "code",
   "execution_count": 51,
   "metadata": {},
   "outputs": [
    {
     "data": {
      "text/html": [
       "<div>\n",
       "<style scoped>\n",
       "    .dataframe tbody tr th:only-of-type {\n",
       "        vertical-align: middle;\n",
       "    }\n",
       "\n",
       "    .dataframe tbody tr th {\n",
       "        vertical-align: top;\n",
       "    }\n",
       "\n",
       "    .dataframe thead th {\n",
       "        text-align: right;\n",
       "    }\n",
       "</style>\n",
       "<table border=\"1\" class=\"dataframe\">\n",
       "  <thead>\n",
       "    <tr style=\"text-align: right;\">\n",
       "      <th></th>\n",
       "      <th>value</th>\n",
       "    </tr>\n",
       "    <tr>\n",
       "      <th>DATE</th>\n",
       "      <th></th>\n",
       "    </tr>\n",
       "  </thead>\n",
       "  <tbody>\n",
       "    <tr>\n",
       "      <th>2019-01-01</th>\n",
       "      <td>248265.0</td>\n",
       "    </tr>\n",
       "    <tr>\n",
       "      <th>2019-02-01</th>\n",
       "      <td>226736.0</td>\n",
       "    </tr>\n",
       "    <tr>\n",
       "      <th>2019-03-01</th>\n",
       "      <td>271568.0</td>\n",
       "    </tr>\n",
       "    <tr>\n",
       "      <th>2019-04-01</th>\n",
       "      <td>281566.0</td>\n",
       "    </tr>\n",
       "    <tr>\n",
       "      <th>2019-05-01</th>\n",
       "      <td>286199.0</td>\n",
       "    </tr>\n",
       "    <tr>\n",
       "      <th>2019-06-01</th>\n",
       "      <td>281375.0</td>\n",
       "    </tr>\n",
       "    <tr>\n",
       "      <th>2019-07-01</th>\n",
       "      <td>295664.0</td>\n",
       "    </tr>\n",
       "    <tr>\n",
       "      <th>2019-08-01</th>\n",
       "      <td>286811.0</td>\n",
       "    </tr>\n",
       "    <tr>\n",
       "      <th>2019-09-01</th>\n",
       "      <td>271850.0</td>\n",
       "    </tr>\n",
       "    <tr>\n",
       "      <th>2019-10-01</th>\n",
       "      <td>284055.0</td>\n",
       "    </tr>\n",
       "    <tr>\n",
       "      <th>2019-11-01</th>\n",
       "      <td>260507.0</td>\n",
       "    </tr>\n",
       "    <tr>\n",
       "      <th>2019-12-01</th>\n",
       "      <td>274115.0</td>\n",
       "    </tr>\n",
       "    <tr>\n",
       "      <th>2020-01-01</th>\n",
       "      <td>253534.0</td>\n",
       "    </tr>\n",
       "    <tr>\n",
       "      <th>2020-02-01</th>\n",
       "      <td>232032.0</td>\n",
       "    </tr>\n",
       "    <tr>\n",
       "      <th>2020-03-01</th>\n",
       "      <td>220732.0</td>\n",
       "    </tr>\n",
       "    <tr>\n",
       "      <th>2020-04-01</th>\n",
       "      <td>169624.0</td>\n",
       "    </tr>\n",
       "  </tbody>\n",
       "</table>\n",
       "</div>"
      ],
      "text/plain": [
       "               value\n",
       "DATE                \n",
       "2019-01-01  248265.0\n",
       "2019-02-01  226736.0\n",
       "2019-03-01  271568.0\n",
       "2019-04-01  281566.0\n",
       "2019-05-01  286199.0\n",
       "2019-06-01  281375.0\n",
       "2019-07-01  295664.0\n",
       "2019-08-01  286811.0\n",
       "2019-09-01  271850.0\n",
       "2019-10-01  284055.0\n",
       "2019-11-01  260507.0\n",
       "2019-12-01  274115.0\n",
       "2020-01-01  253534.0\n",
       "2020-02-01  232032.0\n",
       "2020-03-01  220732.0\n",
       "2020-04-01  169624.0"
      ]
     },
     "execution_count": 51,
     "metadata": {},
     "output_type": "execute_result"
    }
   ],
   "source": [
    "test"
   ]
  },
  {
   "cell_type": "markdown",
   "metadata": {},
   "source": [
    "**TASK: Create a new dataframe that has both the original test values and your predictions for them.**"
   ]
  },
  {
   "cell_type": "code",
   "execution_count": 52,
   "metadata": {},
   "outputs": [
    {
     "name": "stderr",
     "output_type": "stream",
     "text": [
      "C:\\Users\\HP\\Anaconda3\\lib\\site-packages\\ipykernel_launcher.py:1: SettingWithCopyWarning: \n",
      "A value is trying to be set on a copy of a slice from a DataFrame.\n",
      "Try using .loc[row_indexer,col_indexer] = value instead\n",
      "\n",
      "See the caveats in the documentation: https://pandas.pydata.org/pandas-docs/stable/user_guide/indexing.html#returning-a-view-versus-a-copy\n",
      "  \"\"\"Entry point for launching an IPython kernel.\n"
     ]
    }
   ],
   "source": [
    "test['Predictions'] = true_predictions"
   ]
  },
  {
   "cell_type": "code",
   "execution_count": 53,
   "metadata": {},
   "outputs": [
    {
     "data": {
      "text/html": [
       "<div>\n",
       "<style scoped>\n",
       "    .dataframe tbody tr th:only-of-type {\n",
       "        vertical-align: middle;\n",
       "    }\n",
       "\n",
       "    .dataframe tbody tr th {\n",
       "        vertical-align: top;\n",
       "    }\n",
       "\n",
       "    .dataframe thead th {\n",
       "        text-align: right;\n",
       "    }\n",
       "</style>\n",
       "<table border=\"1\" class=\"dataframe\">\n",
       "  <thead>\n",
       "    <tr style=\"text-align: right;\">\n",
       "      <th></th>\n",
       "      <th>value</th>\n",
       "      <th>Predictions</th>\n",
       "    </tr>\n",
       "    <tr>\n",
       "      <th>DATE</th>\n",
       "      <th></th>\n",
       "      <th></th>\n",
       "    </tr>\n",
       "  </thead>\n",
       "  <tbody>\n",
       "    <tr>\n",
       "      <th>2019-01-01</th>\n",
       "      <td>248265.0</td>\n",
       "      <td>251380.328198</td>\n",
       "    </tr>\n",
       "    <tr>\n",
       "      <th>2019-02-01</th>\n",
       "      <td>226736.0</td>\n",
       "      <td>236868.101744</td>\n",
       "    </tr>\n",
       "    <tr>\n",
       "      <th>2019-03-01</th>\n",
       "      <td>271568.0</td>\n",
       "      <td>276007.452236</td>\n",
       "    </tr>\n",
       "    <tr>\n",
       "      <th>2019-04-01</th>\n",
       "      <td>281566.0</td>\n",
       "      <td>281398.028532</td>\n",
       "    </tr>\n",
       "    <tr>\n",
       "      <th>2019-05-01</th>\n",
       "      <td>286199.0</td>\n",
       "      <td>291282.694942</td>\n",
       "    </tr>\n",
       "    <tr>\n",
       "      <th>2019-06-01</th>\n",
       "      <td>281375.0</td>\n",
       "      <td>289901.104244</td>\n",
       "    </tr>\n",
       "    <tr>\n",
       "      <th>2019-07-01</th>\n",
       "      <td>295664.0</td>\n",
       "      <td>297964.744913</td>\n",
       "    </tr>\n",
       "    <tr>\n",
       "      <th>2019-08-01</th>\n",
       "      <td>286811.0</td>\n",
       "      <td>291355.908659</td>\n",
       "    </tr>\n",
       "    <tr>\n",
       "      <th>2019-09-01</th>\n",
       "      <td>271850.0</td>\n",
       "      <td>275647.569650</td>\n",
       "    </tr>\n",
       "    <tr>\n",
       "      <th>2019-10-01</th>\n",
       "      <td>284055.0</td>\n",
       "      <td>287195.913406</td>\n",
       "    </tr>\n",
       "    <tr>\n",
       "      <th>2019-11-01</th>\n",
       "      <td>260507.0</td>\n",
       "      <td>267666.663536</td>\n",
       "    </tr>\n",
       "    <tr>\n",
       "      <th>2019-12-01</th>\n",
       "      <td>274115.0</td>\n",
       "      <td>276776.450832</td>\n",
       "    </tr>\n",
       "    <tr>\n",
       "      <th>2020-01-01</th>\n",
       "      <td>253534.0</td>\n",
       "      <td>257961.238358</td>\n",
       "    </tr>\n",
       "    <tr>\n",
       "      <th>2020-02-01</th>\n",
       "      <td>232032.0</td>\n",
       "      <td>245638.600994</td>\n",
       "    </tr>\n",
       "    <tr>\n",
       "      <th>2020-03-01</th>\n",
       "      <td>220732.0</td>\n",
       "      <td>281311.017237</td>\n",
       "    </tr>\n",
       "    <tr>\n",
       "      <th>2020-04-01</th>\n",
       "      <td>169624.0</td>\n",
       "      <td>287559.767251</td>\n",
       "    </tr>\n",
       "  </tbody>\n",
       "</table>\n",
       "</div>"
      ],
      "text/plain": [
       "               value    Predictions\n",
       "DATE                               \n",
       "2019-01-01  248265.0  251380.328198\n",
       "2019-02-01  226736.0  236868.101744\n",
       "2019-03-01  271568.0  276007.452236\n",
       "2019-04-01  281566.0  281398.028532\n",
       "2019-05-01  286199.0  291282.694942\n",
       "2019-06-01  281375.0  289901.104244\n",
       "2019-07-01  295664.0  297964.744913\n",
       "2019-08-01  286811.0  291355.908659\n",
       "2019-09-01  271850.0  275647.569650\n",
       "2019-10-01  284055.0  287195.913406\n",
       "2019-11-01  260507.0  267666.663536\n",
       "2019-12-01  274115.0  276776.450832\n",
       "2020-01-01  253534.0  257961.238358\n",
       "2020-02-01  232032.0  245638.600994\n",
       "2020-03-01  220732.0  281311.017237\n",
       "2020-04-01  169624.0  287559.767251"
      ]
     },
     "execution_count": 53,
     "metadata": {},
     "output_type": "execute_result"
    }
   ],
   "source": [
    "test"
   ]
  },
  {
   "cell_type": "markdown",
   "metadata": {},
   "source": [
    "**TASK: Plot out the test set against your own predicted values.**"
   ]
  },
  {
   "cell_type": "code",
   "execution_count": 54,
   "metadata": {},
   "outputs": [
    {
     "data": {
      "text/plain": [
       "<AxesSubplot:xlabel='DATE'>"
      ]
     },
     "execution_count": 54,
     "metadata": {},
     "output_type": "execute_result"
    },
    {
     "data": {
      "image/png": "[encoded data removed]",
      "text/plain": [
       "<Figure size 864x576 with 1 Axes>"
      ]
     },
     "metadata": {
      "needs_background": "light"
     },
     "output_type": "display_data"
    }
   ],
   "source": [
    "test.plot(figsize=(12,8))"
   ]
  },
  {
   "cell_type": "markdown",
   "metadata": {},
   "source": [
    "# Saving Models\n",
    "\n",
    "**TASK: Optional, Save your model!**"
   ]
  },
  {
   "cell_type": "code",
   "execution_count": 55,
   "metadata": {},
   "outputs": [],
   "source": [
    "model.save('my_rnn_model.h5')"
   ]
  },
  {
   "cell_type": "code",
   "execution_count": null,
   "metadata": {},
   "outputs": [],
   "source": []
  }
 ],
 "metadata": {
  "kernelspec": {
   "display_name": "Python 3",
   "language": "python",
   "name": "python3"
  },
  "language_info": {
   "codemirror_mode": {
    "name": "ipython",
    "version": 3
   },
   "file_extension": ".py",
   "mimetype": "text/x-python",
   "name": "python",
   "nbconvert_exporter": "python",
   "pygments_lexer": "ipython3",
   "version": "3.7.3"
  }
 },
 "nbformat": 4,
 "nbformat_minor": 2
}
